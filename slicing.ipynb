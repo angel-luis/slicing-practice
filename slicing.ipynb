{
 "cells": [
  {
   "attachments": {},
   "cell_type": "markdown",
   "metadata": {},
   "source": [
    "Create a string `s` with the value `abcdefghijklmnopqrstuvwxyz`.\n",
    "\n",
    "Use slicing to extract and print:\n",
    "- The first 5 characters.\n",
    "- All characters from the 3rd to the 10th position.\n",
    "- The last 5 characters."
   ]
  },
  {
   "cell_type": "code",
   "execution_count": 6,
   "metadata": {},
   "outputs": [
    {
     "name": "stdout",
     "output_type": "stream",
     "text": [
      "abcde\n",
      "defghij\n",
      "vwxyz\n"
     ]
    }
   ],
   "source": [
    "s = \"abcdefghijklmnopqrstuvwxyz\"\n",
    "\n",
    "print(s[:5])\n",
    "print(s[3:10])\n",
    "print(s[-5:])"
   ]
  },
  {
   "attachments": {},
   "cell_type": "markdown",
   "metadata": {},
   "source": [
    "Using the same string `s`, use the step parameter to:\n",
    "- Extract and print all the even-indexed characters (0, 2, 4, ...).\n",
    "- Extract and print all the odd-indexed characters (1, 3, 5, ...).\n",
    "- Extract and print every third character."
   ]
  },
  {
   "cell_type": "code",
   "execution_count": 15,
   "metadata": {},
   "outputs": [
    {
     "name": "stdout",
     "output_type": "stream",
     "text": [
      "acegikmoqsuwy\n",
      "bdfhjlnprtvxz\n",
      "cfilorux\n"
     ]
    }
   ],
   "source": [
    "print(s[::2])\n",
    "print(s[1::2])\n",
    "print(s[2::3])"
   ]
  },
  {
   "attachments": {},
   "cell_type": "markdown",
   "metadata": {},
   "source": [
    "Use slicing to reverse the string `s` and print it."
   ]
  },
  {
   "cell_type": "code",
   "execution_count": 16,
   "metadata": {},
   "outputs": [
    {
     "name": "stdout",
     "output_type": "stream",
     "text": [
      "zyxwvutsrqponmlkjihgfedcba\n"
     ]
    }
   ],
   "source": [
    "print(s[::-1])"
   ]
  },
  {
   "attachments": {},
   "cell_type": "markdown",
   "metadata": {},
   "source": [
    "Create a list numbers `l` with the following values `[1, 2, 3, 4, 5, 6, 7, 8, 9, 10]`.\n",
    "\n",
    "Use slicing to:\n",
    "- Replace the second and third elements with 100 and 200 respectively.\n",
    "- Replace all the even-indexed elements with 0."
   ]
  },
  {
   "cell_type": "code",
   "execution_count": 27,
   "metadata": {},
   "outputs": [
    {
     "name": "stdout",
     "output_type": "stream",
     "text": [
      "[1, 100, 200, 3, 4, 5, 6, 7, 8, 9, 10]\n",
      "[0, 100, 0, 3, 0, 5, 0, 7, 0, 9, 0]\n"
     ]
    }
   ],
   "source": [
    "l = [1, 2, 3, 4, 5, 6, 7, 8, 9, 10]\n",
    "\n",
    "l[1:2] = [100,200]\n",
    "print(l)\n",
    "\n",
    "l[::2] = [0] * len(l[::2])\n",
    "print(l)"
   ]
  },
  {
   "attachments": {},
   "cell_type": "markdown",
   "metadata": {},
   "source": [
    "Use slicing to:\n",
    "\n",
    "- Delete the first 3 elements in the previous numbers list.\n",
    "- Delete the last 2 elements in the previous numbers list."
   ]
  },
  {
   "cell_type": "code",
   "execution_count": 28,
   "metadata": {},
   "outputs": [
    {
     "name": "stdout",
     "output_type": "stream",
     "text": [
      "[3, 0, 5, 0, 7, 0, 9, 0]\n",
      "[3, 0, 5, 0, 7, 0]\n"
     ]
    }
   ],
   "source": [
    "del(l[:3])\n",
    "print(l)\n",
    "\n",
    "del(l[-2:])\n",
    "print(l)"
   ]
  },
  {
   "attachments": {},
   "cell_type": "markdown",
   "metadata": {},
   "source": [
    "Create a list `d` with the values `[1, 2, 3, 4, 5]`.\n",
    "\n",
    "Use slicing to:\n",
    "- Shift the elements one position to the left (e.g., [2, 3, 4, 5, 1]).\n",
    "- Shift the elements two positions to the right (e.g., [4, 5, 1, 2, 3])."
   ]
  },
  {
   "cell_type": "code",
   "execution_count": 34,
   "metadata": {},
   "outputs": [
    {
     "name": "stdout",
     "output_type": "stream",
     "text": [
      "[2, 3, 4, 5, 1]\n",
      "[4, 5, 1, 2, 3]\n"
     ]
    }
   ],
   "source": [
    "d = [1, 2, 3, 4, 5]\n",
    "\n",
    "print(d[1:] + d[:1])\n",
    "print(d[-2:] + d[:-2])"
   ]
  },
  {
   "attachments": {},
   "cell_type": "markdown",
   "metadata": {},
   "source": [
    "Create a list `seq` with the values `[1, 2, 3, 4, 5, 6, 7, 8, 9, 10]`.\n",
    "\n",
    "Use slicing to:\n",
    "- Extract and print a subsequence containing every second element, starting from the second element (e.g., [2, 4, 6, 8, 10]).\n",
    "- Extract and print a subsequence containing every third element, starting from the first element (e.g., [1, 4, 7, 10])."
   ]
  },
  {
   "cell_type": "code",
   "execution_count": 43,
   "metadata": {},
   "outputs": [
    {
     "name": "stdout",
     "output_type": "stream",
     "text": [
      "[2, 4, 6, 8, 10]\n",
      "[1, 4, 7, 10]\n"
     ]
    }
   ],
   "source": [
    "seq = [1, 2, 3, 4, 5, 6, 7, 8, 9, 10]\n",
    "\n",
    "print(seq[1::2])\n",
    "print(seq[::3])"
   ]
  },
  {
   "attachments": {},
   "cell_type": "markdown",
   "metadata": {},
   "source": [
    "Write a function that takes a string as input and uses slicing to check if the string is a palindrome (the string is the same forward and backward). Test your function with some examples."
   ]
  },
  {
   "cell_type": "code",
   "execution_count": 48,
   "metadata": {},
   "outputs": [
    {
     "name": "stdout",
     "output_type": "stream",
     "text": [
      "hello is not a palindrome\n",
      "civic is a palindrome\n"
     ]
    }
   ],
   "source": [
    "def palindrome(word):\n",
    "    if word == word[::-1]:\n",
    "        print(f\"{word} is a palindrome\")\n",
    "    else:\n",
    "        print(f\"{word} is not a palindrome\")\n",
    "\n",
    "palindrome(\"hello\")\n",
    "palindrome(\"civic\")"
   ]
  }
 ],
 "metadata": {
  "kernelspec": {
   "display_name": "Python 3",
   "language": "python",
   "name": "python3"
  },
  "language_info": {
   "codemirror_mode": {
    "name": "ipython",
    "version": 3
   },
   "file_extension": ".py",
   "mimetype": "text/x-python",
   "name": "python",
   "nbconvert_exporter": "python",
   "pygments_lexer": "ipython3",
   "version": "3.10.11"
  },
  "orig_nbformat": 4
 },
 "nbformat": 4,
 "nbformat_minor": 2
}
